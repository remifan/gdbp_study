{
 "cells": [
  {
   "cell_type": "markdown",
   "id": "a3f043bb-3935-4ccc-a911-a24e0cde77d6",
   "metadata": {},
   "source": [
    "# BP of Conv1D"
   ]
  },
  {
   "cell_type": "code",
   "execution_count": null,
   "id": "d4df4406-4af3-4216-8bd3-82c33f2f9f36",
   "metadata": {
    "tags": [
     "hide-cell"
    ]
   },
   "outputs": [],
   "source": [
    "%pip install jax==0.2.13 jaxlib==0.1.66"
   ]
  },
  {
   "cell_type": "code",
   "execution_count": 1,
   "id": "f6cb01a3-ddb2-4ab3-8371-17b99a47f089",
   "metadata": {
    "execution": {
     "iopub.execute_input": "2021-09-14T06:50:17.835456Z",
     "iopub.status.busy": "2021-09-14T06:50:17.835205Z",
     "iopub.status.idle": "2021-09-14T06:50:18.156655Z",
     "shell.execute_reply": "2021-09-14T06:50:18.156300Z",
     "shell.execute_reply.started": "2021-09-14T06:50:17.835392Z"
    }
   },
   "outputs": [],
   "source": [
    "from jax import grad\n",
    "from jax.numpy import array, convolve, inner"
   ]
  },
  {
   "cell_type": "code",
   "execution_count": 2,
   "id": "c2c0d83f-f79b-4109-b3f0-b0f0ddf8dc33",
   "metadata": {
    "execution": {
     "iopub.execute_input": "2021-09-14T06:50:26.598246Z",
     "iopub.status.busy": "2021-09-14T06:50:26.598030Z",
     "iopub.status.idle": "2021-09-14T06:50:26.625457Z",
     "shell.execute_reply": "2021-09-14T06:50:26.624857Z",
     "shell.execute_reply.started": "2021-09-14T06:50:26.598224Z"
    }
   },
   "outputs": [
    {
     "name": "stderr",
     "output_type": "stream",
     "text": [
      "WARNING:absl:No GPU/TPU found, falling back to CPU. (Set TF_CPP_MIN_LOG_LEVEL=0 and rerun for more info.)\n"
     ]
    }
   ],
   "source": [
    "a = array([1.1, 2., -3, 2.5, 7.])\n",
    "b = array([3., 2., -2.2])"
   ]
  },
  {
   "cell_type": "markdown",
   "id": "e944069e-d919-44a5-8445-f061886a7ce5",
   "metadata": {
    "execution": {
     "iopub.execute_input": "2021-09-14T06:50:50.492105Z",
     "iopub.status.busy": "2021-09-14T06:50:50.491891Z",
     "iopub.status.idle": "2021-09-14T06:50:50.496169Z",
     "shell.execute_reply": "2021-09-14T06:50:50.495457Z",
     "shell.execute_reply.started": "2021-09-14T06:50:50.492083Z"
    }
   },
   "source": [
    "## Inner product\n",
    "\n",
    "An often use operation is inner product $\\odot$, let $f(x, y)=x\\odot y$, we have $\\nabla_xf=y$"
   ]
  },
  {
   "cell_type": "code",
   "execution_count": 4,
   "id": "ba265c0d-16b8-47ef-b0f4-2acd859e1535",
   "metadata": {
    "execution": {
     "iopub.execute_input": "2021-09-14T06:51:07.708558Z",
     "iopub.status.busy": "2021-09-14T06:51:07.708340Z",
     "iopub.status.idle": "2021-09-14T06:51:07.732843Z",
     "shell.execute_reply": "2021-09-14T06:51:07.732300Z",
     "shell.execute_reply.started": "2021-09-14T06:51:07.708535Z"
    }
   },
   "outputs": [
    {
     "data": {
      "text/plain": [
       "DeviceArray([4.5, 1. , 5. ], dtype=float32)"
      ]
     },
     "execution_count": 4,
     "metadata": {},
     "output_type": "execute_result"
    }
   ],
   "source": [
    "c = array([4.5, 1., 5.])\n",
    "grad(inner)(b, c)  # returns the value of c"
   ]
  },
  {
   "cell_type": "markdown",
   "id": "03970a76-6b69-47c1-a5d3-b2a4eacf9b74",
   "metadata": {},
   "source": [
    "## Conv1D\n",
    "Another case is convolution, whose vector-Jacobian product is heavily used in the analysis of backprop. GDBP.\n",
    "\n",
    "Let $f(x, y)=g(x*y)$, we have $\\nabla_xf=\\nabla_{f(x,y)}g*\\overleftarrow{y}$\n",
    "\n",
    "We need a scalar output function so that its gradient exists, for simplity, let $g(u, v)=u\\odot v$, that is, for $f(x, y, z)=(x*y)\\odot z$, then we should have $\\nabla_xf=z*\\overleftarrow{y}$\n",
    "\n",
    "In fact, the result should depend on the convolution mode, but we still use the same convolution operator $*$ in the manuscript for simplicity."
   ]
  },
  {
   "cell_type": "markdown",
   "id": "e1c5b415-6e13-4ef0-9b50-afcffce6d6a1",
   "metadata": {},
   "source": [
    "### convolution mode = 'full'"
   ]
  },
  {
   "cell_type": "code",
   "execution_count": 5,
   "id": "a89aa68a-a774-449d-a19b-eab35176a01c",
   "metadata": {
    "execution": {
     "iopub.execute_input": "2021-09-14T06:52:02.565983Z",
     "iopub.status.busy": "2021-09-14T06:52:02.565769Z",
     "iopub.status.idle": "2021-09-14T06:52:02.679694Z",
     "shell.execute_reply": "2021-09-14T06:52:02.679215Z",
     "shell.execute_reply.started": "2021-09-14T06:52:02.565961Z"
    }
   },
   "outputs": [
    {
     "data": {
      "text/plain": [
       "DeviceArray([  4.5     ,  17.84    ,  34.800003, -36.08    , -46.      ],            dtype=float32)"
      ]
     },
     "execution_count": 5,
     "metadata": {},
     "output_type": "execute_result"
    }
   ],
   "source": [
    "f = lambda x, y, z: inner(convolve(x, y, mode='full'), z)\n",
    "c = array([4.5, 1., 5., -2.2, -11, 3.4, 9])\n",
    "grad(f)(a, b, c)  # evaluate the gradient of f respect to its first argument at given inputs a, b and c"
   ]
  },
  {
   "cell_type": "code",
   "execution_count": 6,
   "id": "0a624c82-412c-4c8d-bc16-1e7fcce84e69",
   "metadata": {
    "execution": {
     "iopub.execute_input": "2021-09-14T06:52:09.374972Z",
     "iopub.status.busy": "2021-09-14T06:52:09.374726Z",
     "iopub.status.idle": "2021-09-14T06:52:09.398249Z",
     "shell.execute_reply": "2021-09-14T06:52:09.397787Z",
     "shell.execute_reply.started": "2021-09-14T06:52:09.374950Z"
    }
   },
   "outputs": [
    {
     "data": {
      "text/plain": [
       "DeviceArray([  4.5     ,  17.84    ,  34.800003, -36.08    , -46.      ],            dtype=float32)"
      ]
     },
     "execution_count": 6,
     "metadata": {},
     "output_type": "execute_result"
    }
   ],
   "source": [
    "convolve(c, b[::-1], mode='valid')  # we manually evaluate the gradient"
   ]
  },
  {
   "cell_type": "markdown",
   "id": "8453d2e0-9051-497c-b255-7ff9a0b47455",
   "metadata": {},
   "source": [
    "### convolution mode = 'same'"
   ]
  },
  {
   "cell_type": "code",
   "execution_count": 8,
   "id": "65bb6781-778f-42bc-be96-f2bb47122bd8",
   "metadata": {
    "execution": {
     "iopub.execute_input": "2021-09-14T06:52:38.484657Z",
     "iopub.status.busy": "2021-09-14T06:52:38.484444Z",
     "iopub.status.idle": "2021-09-14T06:52:38.537935Z",
     "shell.execute_reply": "2021-09-14T06:52:38.537470Z",
     "shell.execute_reply.started": "2021-09-14T06:52:38.484635Z"
    },
    "tags": []
   },
   "outputs": [
    {
     "data": {
      "text/plain": [
       "DeviceArray([  6.8     ,   4.5     ,  17.84    ,  34.800003, -28.6     ],            dtype=float32)"
      ]
     },
     "execution_count": 8,
     "metadata": {},
     "output_type": "execute_result"
    }
   ],
   "source": [
    "f = lambda x, y, z: inner(convolve(x, y, mode='same'), z)\n",
    "\n",
    "c = array([4.5, 1., 5., -2.2, -11])\n",
    "grad(f)(a, b, c)"
   ]
  },
  {
   "cell_type": "code",
   "execution_count": 9,
   "id": "378b5cb1-0177-4c90-83c4-148f616f66b0",
   "metadata": {
    "execution": {
     "iopub.execute_input": "2021-09-14T06:52:44.720998Z",
     "iopub.status.busy": "2021-09-14T06:52:44.720786Z",
     "iopub.status.idle": "2021-09-14T06:52:44.730054Z",
     "shell.execute_reply": "2021-09-14T06:52:44.729671Z",
     "shell.execute_reply.started": "2021-09-14T06:52:44.720977Z"
    }
   },
   "outputs": [
    {
     "data": {
      "text/plain": [
       "DeviceArray([  6.8     ,   4.5     ,  17.84    ,  34.800003, -28.6     ],            dtype=float32)"
      ]
     },
     "execution_count": 9,
     "metadata": {},
     "output_type": "execute_result"
    }
   ],
   "source": [
    "convolve(c, b[::-1], mode='same')"
   ]
  },
  {
   "cell_type": "markdown",
   "id": "a73acc69-5029-445f-b696-60158f49ee88",
   "metadata": {},
   "source": [
    "### convolution mode = 'valid'"
   ]
  },
  {
   "cell_type": "code",
   "execution_count": 10,
   "id": "57a2b1fc-7c64-4e1f-b77b-c5e80b06e2bc",
   "metadata": {
    "execution": {
     "iopub.execute_input": "2021-09-14T06:53:12.545402Z",
     "iopub.status.busy": "2021-09-14T06:53:12.545187Z",
     "iopub.status.idle": "2021-09-14T06:53:12.590611Z",
     "shell.execute_reply": "2021-09-14T06:53:12.590152Z",
     "shell.execute_reply.started": "2021-09-14T06:53:12.545380Z"
    }
   },
   "outputs": [
    {
     "data": {
      "text/plain": [
       "DeviceArray([-9.900001,  6.8     ,  4.5     , 13.      , 15.      ], dtype=float32)"
      ]
     },
     "execution_count": 10,
     "metadata": {},
     "output_type": "execute_result"
    }
   ],
   "source": [
    "f = lambda x, y, z: inner(convolve(x, y, mode='valid'), z)\n",
    "\n",
    "c = array([4.5, 1., 5.])\n",
    "grad(f)(a, b, c)"
   ]
  },
  {
   "cell_type": "code",
   "execution_count": 11,
   "id": "c3b2012f-07b1-4f49-a26e-6ce67f0702cb",
   "metadata": {
    "execution": {
     "iopub.execute_input": "2021-09-14T06:53:13.555081Z",
     "iopub.status.busy": "2021-09-14T06:53:13.554739Z",
     "iopub.status.idle": "2021-09-14T06:53:13.570037Z",
     "shell.execute_reply": "2021-09-14T06:53:13.569579Z",
     "shell.execute_reply.started": "2021-09-14T06:53:13.555058Z"
    }
   },
   "outputs": [
    {
     "data": {
      "text/plain": [
       "DeviceArray([-9.900001,  6.8     ,  4.5     , 13.      , 15.      ], dtype=float32)"
      ]
     },
     "execution_count": 11,
     "metadata": {},
     "output_type": "execute_result"
    }
   ],
   "source": [
    "convolve(c, b[::-1], mode='full')"
   ]
  }
 ],
 "metadata": {
  "kernelspec": {
   "display_name": "commplax",
   "language": "python",
   "name": "commplax"
  },
  "language_info": {
   "codemirror_mode": {
    "name": "ipython",
    "version": 3
   },
   "file_extension": ".py",
   "mimetype": "text/x-python",
   "name": "python",
   "nbconvert_exporter": "python",
   "pygments_lexer": "ipython3",
   "version": "3.8.11"
  }
 },
 "nbformat": 4,
 "nbformat_minor": 5
}
