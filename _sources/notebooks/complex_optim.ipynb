{
 "cells": [
  {
   "cell_type": "markdown",
   "id": "ec6a1664-2ba2-4a6d-8a4e-b92a858c440c",
   "metadata": {},
   "source": [
    "# Complex-valued optimizer"
   ]
  },
  {
   "cell_type": "code",
   "execution_count": null,
   "id": "aa208f7b-c369-43e0-81d7-4a6d8038cec9",
   "metadata": {},
   "outputs": [],
   "source": []
  }
 ],
 "metadata": {
  "kernelspec": {
   "display_name": "commplax",
   "language": "python",
   "name": "commplax"
  },
  "language_info": {
   "codemirror_mode": {
    "name": "ipython",
    "version": 3
   },
   "file_extension": ".py",
   "mimetype": "text/x-python",
   "name": "python",
   "nbconvert_exporter": "python",
   "pygments_lexer": "ipython3",
   "version": "3.8.11"
  }
 },
 "nbformat": 4,
 "nbformat_minor": 5
}
