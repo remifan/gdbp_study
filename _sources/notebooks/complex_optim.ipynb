{
 "cells": [
  {
   "cell_type": "markdown",
   "id": "ec6a1664-2ba2-4a6d-8a4e-b92a858c440c",
   "metadata": {},
   "source": [
    "# Complex-valued optimizer"
   ]
  },
  {
   "cell_type": "markdown",
   "id": "b24fb588-b51b-4b41-b165-e7a54389189c",
   "metadata": {},
   "source": [
    "Work in progress"
   ]
  }
 ],
 "metadata": {
  "kernelspec": {
   "display_name": "commplax",
   "language": "python",
   "name": "commplax"
  },
  "language_info": {
   "codemirror_mode": {
    "name": "ipython",
    "version": 3
   },
   "file_extension": ".py",
   "mimetype": "text/x-python",
   "name": "python",
   "nbconvert_exporter": "python",
   "pygments_lexer": "ipython3",
   "version": "3.8.11"
  }
 },
 "nbformat": 4,
 "nbformat_minor": 5
}
