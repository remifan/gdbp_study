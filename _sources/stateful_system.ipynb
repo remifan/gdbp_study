{
 "cells": [
  {
   "cell_type": "code",
   "execution_count": 8,
   "id": "d4775c82-cba1-4ffa-89eb-58c9b77ff0b8",
   "metadata": {
    "execution": {
     "iopub.execute_input": "2021-09-18T05:39:24.196564Z",
     "iopub.status.busy": "2021-09-18T05:39:24.196350Z",
     "iopub.status.idle": "2021-09-18T05:39:24.200422Z",
     "shell.execute_reply": "2021-09-18T05:39:24.199902Z",
     "shell.execute_reply.started": "2021-09-18T05:39:24.196542Z"
    },
    "tags": []
   },
   "outputs": [],
   "source": [
    "import jax\n",
    "import numpy as np\n",
    "import matplotlib.pyplot as plt\n",
    "from commplax import equalizer as eq, xcomm, plot as cplt\n",
    "from gdbp import gdbp_base as gb, plot as gplt, dataloader as dl"
   ]
  },
  {
   "cell_type": "code",
   "execution_count": 2,
   "id": "1b54583a-5b5f-4860-a3e3-9774bc9549a5",
   "metadata": {
    "execution": {
     "iopub.execute_input": "2021-09-18T05:35:12.393951Z",
     "iopub.status.busy": "2021-09-18T05:35:12.393570Z",
     "iopub.status.idle": "2021-09-18T05:35:12.396170Z",
     "shell.execute_reply": "2021-09-18T05:35:12.395753Z",
     "shell.execute_reply.started": "2021-09-18T05:35:12.393937Z"
    },
    "tags": []
   },
   "outputs": [],
   "source": [
    "import labptptm2"
   ]
  },
  {
   "cell_type": "code",
   "execution_count": 3,
   "id": "786bdc61-9da7-480c-885d-f30ab607df91",
   "metadata": {
    "execution": {
     "iopub.execute_input": "2021-09-18T05:35:12.890923Z",
     "iopub.status.busy": "2021-09-18T05:35:12.890732Z",
     "iopub.status.idle": "2021-09-18T05:35:12.893671Z",
     "shell.execute_reply": "2021-09-18T05:35:12.893242Z",
     "shell.execute_reply.started": "2021-09-18T05:35:12.890911Z"
    },
    "tags": []
   },
   "outputs": [],
   "source": [
    "labptptm2.config.dump()"
   ]
  },
  {
   "cell_type": "code",
   "execution_count": 4,
   "id": "dc5678ef-c9c4-4e64-85b8-977af8360dd1",
   "metadata": {
    "execution": {
     "iopub.execute_input": "2021-09-18T05:36:30.801512Z",
     "iopub.status.busy": "2021-09-18T05:36:30.801295Z",
     "iopub.status.idle": "2021-09-18T05:36:31.529806Z",
     "shell.execute_reply": "2021-09-18T05:36:31.529374Z",
     "shell.execute_reply.started": "2021-09-18T05:36:30.801490Z"
    },
    "tags": []
   },
   "outputs": [],
   "source": [
    "data = dl.loaddata(1, 0, 4, 2)"
   ]
  },
  {
   "cell_type": "code",
   "execution_count": 5,
   "id": "e8f5bc2e-a0af-4659-8817-103ff36d84e6",
   "metadata": {
    "execution": {
     "iopub.execute_input": "2021-09-18T05:36:33.066366Z",
     "iopub.status.busy": "2021-09-18T05:36:33.066147Z",
     "iopub.status.idle": "2021-09-18T05:36:36.950343Z",
     "shell.execute_reply": "2021-09-18T05:36:36.949478Z",
     "shell.execute_reply.started": "2021-09-18T05:36:33.066343Z"
    },
    "tags": []
   },
   "outputs": [],
   "source": [
    "# process via CDC+CMA/RDE+KF\n",
    "z, mimo_w = eq.modulusmimo(eq.cdcomp(data.y, data.a['samplerate'], 18.451))[:2]\n",
    "z, (nfo, _) = eq.framekfcpr(z, w0=data.w0)\n",
    "z, phi = eq.ekfcpr(z)"
   ]
  },
  {
   "cell_type": "code",
   "execution_count": 6,
   "id": "adf847cc-c925-4f98-b599-4cc34aa3bb07",
   "metadata": {
    "execution": {
     "iopub.execute_input": "2021-09-18T05:36:38.753111Z",
     "iopub.status.busy": "2021-09-18T05:36:38.752890Z",
     "iopub.status.idle": "2021-09-18T05:36:38.760551Z",
     "shell.execute_reply": "2021-09-18T05:36:38.760033Z",
     "shell.execute_reply.started": "2021-09-18T05:36:38.753088Z"
    },
    "tags": []
   },
   "outputs": [],
   "source": [
    "%matplotlib widget"
   ]
  },
  {
   "cell_type": "code",
   "execution_count": 7,
   "id": "528203c0-4ed9-4090-9f9c-7b7c8b109929",
   "metadata": {
    "execution": {
     "iopub.execute_input": "2021-09-18T05:36:54.655688Z",
     "iopub.status.busy": "2021-09-18T05:36:54.655469Z",
     "iopub.status.idle": "2021-09-18T05:36:55.962871Z",
     "shell.execute_reply": "2021-09-18T05:36:55.962475Z",
     "shell.execute_reply.started": "2021-09-18T05:36:54.655664Z"
    },
    "tags": []
   },
   "outputs": [
    {
     "data": {
      "application/vnd.jupyter.widget-view+json": {
       "model_id": "f9677c9954ab466d990e78fac59c28c4",
       "version_major": 2,
       "version_minor": 0
      },
      "text/plain": [
       "Canvas(toolbar=Toolbar(toolitems=[('Home', 'Reset original view', 'home', 'home'), ('Back', 'Back to previous …"
      ]
     },
     "metadata": {},
     "output_type": "display_data"
    },
    {
     "data": {
      "text/plain": [
       "Text(0, 0.5, 'max($\\\\mathbf{|h|}$)')"
      ]
     },
     "execution_count": 7,
     "metadata": {},
     "output_type": "execute_result"
    }
   ],
   "source": [
    "# MIMO dynamics\n",
    "w_amp = np.max(np.abs(mimo_w), axis=-1)\n",
    "plt.figure(figsize=(5, 3), dpi=100)\n",
    "plt.plot(w_amp[:, 0, 0], label=r'$w_{xx}$')\n",
    "plt.plot(w_amp[:, 0, 1], label=r'$w_{xy}$')\n",
    "plt.plot(w_amp[:, 1, 0], label=r'$w_{yx}$')\n",
    "plt.plot(w_amp[:, 1, 1], label=r'$w_{yy}$')\n",
    "plt.legend(loc=\"center left\")\n",
    "\n",
    "plt.ticklabel_format(axis='x', scilimits=(4, 4), useMathText=True)\n",
    "plt.xlabel('symbol index')\n",
    "plt.ylabel(r'max($\\mathbf{|h|}$)')"
   ]
  }
 ],
 "metadata": {
  "kernelspec": {
   "display_name": "commplax",
   "language": "python",
   "name": "commplax"
  },
  "language_info": {
   "codemirror_mode": {
    "name": "ipython",
    "version": 3
   },
   "file_extension": ".py",
   "mimetype": "text/x-python",
   "name": "python",
   "nbconvert_exporter": "python",
   "pygments_lexer": "ipython3",
   "version": "3.8.11"
  }
 },
 "nbformat": 4,
 "nbformat_minor": 5
}
